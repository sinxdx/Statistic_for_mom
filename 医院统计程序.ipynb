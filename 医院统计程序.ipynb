{
 "cells": [
  {
   "cell_type": "code",
   "execution_count": 2,
   "id": "66975c82",
   "metadata": {},
   "outputs": [],
   "source": [
    "import pandas as pd\n",
    "import os"
   ]
  },
  {
   "cell_type": "code",
   "execution_count": 8,
   "id": "3d59c328",
   "metadata": {},
   "outputs": [],
   "source": [
    "# path = input(\"把导出数据的excel拖到这个窗口来\")\n",
    "path = r\"F:\\PythonSaves\\Counting\\导出数据存储处\"\n",
    "file = \"检查项目量统计明细2022-05检查部位明细.xls\"\n",
    "route = os.path.join(path, file)"
   ]
  },
  {
   "cell_type": "code",
   "execution_count": 9,
   "id": "698d25a4",
   "metadata": {},
   "outputs": [],
   "source": [
    "data_raw = pd.read_excel(route)"
   ]
  },
  {
   "cell_type": "code",
   "execution_count": 10,
   "id": "01c7cd52",
   "metadata": {
    "tags": []
   },
   "outputs": [],
   "source": [
    "dict_DR = {\"正侧开口\":3,\n",
    "           \"过伸过屈\":2,\n",
    "           \"张闭口位\":2,\n",
    "           \"立位平片\":1,\n",
    "           \"正斜侧\":3,\n",
    "           \"正斜位\":2,\n",
    "           \"双斜位\":2,\n",
    "           \"正侧位\":2,\n",
    "           \"开口位\":1,\n",
    "           \"平片\":1,\n",
    "           \"立位\":1,\n",
    "           \"侧位\":1,\n",
    "           \"正位\":1,}"
   ]
  },
  {
   "cell_type": "code",
   "execution_count": 11,
   "id": "28e7fd54",
   "metadata": {},
   "outputs": [],
   "source": [
    "dict_MR = {\"MRI平扫\":1,\n",
    "           \"MRA\":1,\n",
    "           \"DWI\":1\n",
    "}"
   ]
  },
  {
   "cell_type": "code",
   "execution_count": 12,
   "id": "097af1ad",
   "metadata": {},
   "outputs": [],
   "source": [
    "spl = [\"/\",\"+\"]"
   ]
  },
  {
   "cell_type": "markdown",
   "id": "c58a6388",
   "metadata": {},
   "source": [
    "需要编写一个程序，输入一个字符串，输入一个分割列表，字符串按照分割列表的字符串顺序来一刀刀地切碎"
   ]
  },
  {
   "cell_type": "markdown",
   "id": "c1eab99b",
   "metadata": {},
   "source": [
    "暂时使用.replace的方法，把分割符号都替换成空格，然后分割，起到的效果应该是一样的"
   ]
  },
  {
   "cell_type": "code",
   "execution_count": 13,
   "id": "23b74f40",
   "metadata": {},
   "outputs": [],
   "source": [
    "def split(lss, spl):\n",
    "    for i in spl:\n",
    "        lss = lss.replace(i,\"$\")\n",
    "    return lss.split(\"$\")"
   ]
  },
  {
   "cell_type": "code",
   "execution_count": 16,
   "id": "62cefe33",
   "metadata": {},
   "outputs": [],
   "source": [
    "def 统计程序(data_raw, keywords, weight, spl):\n",
    "    data = data_raw.loc[data_raw[\"检查类型\"] == keywords, \"检查全部项目\"]\n",
    "    data.reset_index(drop=True,inplace=True)\n",
    "    cnt = 0\n",
    "    for i in data.loc[:]:\n",
    "        # print(f\"——————检查项目{i}————————\")\n",
    "        ls = split(i,spl)\n",
    "        for ts in ls:\n",
    "            for (key, values) in weight.items():\n",
    "                if key in ts:\n",
    "                    cnt += values\n",
    "                    # print(f\"统计到{key},其值为{values}\")\n",
    "                    break\n",
    "    print(f\"统计总和为{cnt}\")\n",
    "    return cnt"
   ]
  },
  {
   "cell_type": "code",
   "execution_count": 17,
   "id": "f0f1df70",
   "metadata": {
    "tags": []
   },
   "outputs": [
    {
     "name": "stdout",
     "output_type": "stream",
     "text": [
      "统计总和为1244\n"
     ]
    },
    {
     "data": {
      "text/plain": [
       "1244"
      ]
     },
     "execution_count": 17,
     "metadata": {},
     "output_type": "execute_result"
    }
   ],
   "source": [
    "统计程序(data_raw, \"MR\", dict_MR, spl)"
   ]
  },
  {
   "cell_type": "code",
   "execution_count": 23,
   "id": "9f5d144e",
   "metadata": {
    "tags": []
   },
   "outputs": [],
   "source": [
    "dic = pd.DataFrame(dict_DR.items(),columns=[\"要统计的关键词\",\"统计到关键词时计算的次数\"])\n",
    "\n",
    "dic.to_excel(\"查找字典.xlsx\")\n",
    "\n",
    "path = \"D:\\Software Documents\\Python\\PyCharm\\Counting\"\n",
    "\n",
    "dc_route = os.path.join(path,\"关键词字典.xlsx\")\n",
    "\n",
    "dc_raw = pd.read_excel(dc_route)\n",
    "\n",
    "dc = dc_raw.loc[:,[\"要统计的关键词\",\"统计到关键词时计算的次数\"]] \t\n",
    "\n",
    "dc = dc.dropna(how=\"all\")\n",
    "\n",
    "dc = dc.set_index(\"要统计的关键词\")"
   ]
  },
  {
   "cell_type": "markdown",
   "id": "d78bf492",
   "metadata": {},
   "source": [
    "如何把dataframe转换成一个字典，使得字典的键和值分别为该dataframe的两列？   \n",
    "应该先把dataframe转换成series,然后再把series转换成dict   "
   ]
  },
  {
   "cell_type": "code",
   "execution_count": 63,
   "id": "c8d097cf",
   "metadata": {
    "tags": []
   },
   "outputs": [
    {
     "ename": "NameError",
     "evalue": "name 'dc' is not defined",
     "output_type": "error",
     "traceback": [
      "\u001b[0;31m---------------------------------------------------------------------------\u001b[0m\n\u001b[0;31mNameError\u001b[0m                                 Traceback (most recent call last)",
      "File \u001b[0;34mC:\\Users\\WIN10\\AppData\\Roaming\\Python\\Python39\\site-packages\\IPython\\core\\interactiveshell.py\u001b[0m, in \u001b[0;32mrun_code\u001b[0m:\nLine \u001b[0;34m3441\u001b[0m:  exec(code_obj, \u001b[36mself\u001b[39;49;00m.user_global_ns, \u001b[36mself\u001b[39;49;00m.user_ns)\n",
      "In  \u001b[0;34m[63]\u001b[0m:\nLine \u001b[0;34m1\u001b[0m:     dct = dc.to_dict(orient=\u001b[33m\"\u001b[39;49;00m\u001b[33mseries\u001b[39;49;00m\u001b[33m\"\u001b[39;49;00m) \u001b[37m# 把dataframe转换成一个键值对，键是开头，而值已经是对应好的关键词\u001b[39;49;00m\n",
      "\u001b[0;31mNameError\u001b[0m: name 'dc' is not defined\n\u001b[0;31m---------------------------------------------------------------------------\u001b[0m"
     ]
    }
   ],
   "source": [
    "dct = dc.to_dict(orient=\"series\") # 把dataframe转换成一个键值对，键是开头，而值已经是对应好的关键词"
   ]
  },
  {
   "cell_type": "code",
   "execution_count": null,
   "id": "10096503",
   "metadata": {
    "tags": []
   },
   "outputs": [],
   "source": [
    "dctt = dct[\"统计到关键词时计算的次数\"].to_dict()"
   ]
  },
  {
   "cell_type": "markdown",
   "id": "823bcc31",
   "metadata": {},
   "source": [
    "读入分隔符列表"
   ]
  },
  {
   "cell_type": "code",
   "execution_count": 90,
   "id": "0256575c",
   "metadata": {},
   "outputs": [],
   "source": [
    "split_list = dc_raw.loc[:,\"分隔符\"].dropna().to_list()"
   ]
  },
  {
   "cell_type": "code",
   "execution_count": 91,
   "id": "cbe19d3b",
   "metadata": {},
   "outputs": [
    {
     "data": {
      "text/plain": [
       "['/']"
      ]
     },
     "execution_count": 91,
     "metadata": {},
     "output_type": "execute_result"
    }
   ],
   "source": [
    "split_list"
   ]
  },
  {
   "cell_type": "markdown",
   "id": "f7ef505e",
   "metadata": {},
   "source": [
    "## 设置类"
   ]
  },
  {
   "cell_type": "code",
   "execution_count": null,
   "id": "fb2cdc5d",
   "metadata": {},
   "outputs": [],
   "source": [
    "setting = pd.read_excel(\"设置.xlsx\",sheet_name=\"设置\")"
   ]
  },
  {
   "cell_type": "code",
   "execution_count": null,
   "id": "c6f5b8ed",
   "metadata": {},
   "outputs": [],
   "source": [
    "setting.set_index(\"设置\",inplace=True)"
   ]
  },
  {
   "cell_type": "markdown",
   "id": "9267ed9b",
   "metadata": {},
   "source": [
    "## 路径转义问题"
   ]
  },
  {
   "cell_type": "markdown",
   "id": "527fdf3d",
   "metadata": {},
   "source": [
    "使用.split和.join方法来解决"
   ]
  },
  {
   "cell_type": "code",
   "execution_count": 16,
   "id": "9852dda5",
   "metadata": {},
   "outputs": [],
   "source": [
    "file_path = \"D:\\Aspice\\HCU ASPICE第1轮\\检查项目量统计明细2022-07-03(1).xls\""
   ]
  },
  {
   "cell_type": "code",
   "execution_count": 20,
   "id": "6789325e",
   "metadata": {},
   "outputs": [
    {
     "data": {
      "text/plain": [
       "'D:/Aspice/HCU ASPICE第1轮/检查项目量统计明细2022-07-03(1).xls'"
      ]
     },
     "execution_count": 20,
     "metadata": {},
     "output_type": "execute_result"
    }
   ],
   "source": [
    "file_path.replace(\"\\\\\",\"/\")"
   ]
  },
  {
   "cell_type": "code",
   "execution_count": 19,
   "id": "5fd2e6b9",
   "metadata": {
    "collapsed": true,
    "jupyter": {
     "outputs_hidden": true
    },
    "tags": []
   },
   "outputs": [
    {
     "data": {
      "text/html": [
       "<div>\n",
       "<style scoped>\n",
       "    .dataframe tbody tr th:only-of-type {\n",
       "        vertical-align: middle;\n",
       "    }\n",
       "\n",
       "    .dataframe tbody tr th {\n",
       "        vertical-align: top;\n",
       "    }\n",
       "\n",
       "    .dataframe thead th {\n",
       "        text-align: right;\n",
       "    }\n",
       "</style>\n",
       "<table border=\"1\" class=\"dataframe\">\n",
       "  <thead>\n",
       "    <tr style=\"text-align: right;\">\n",
       "      <th></th>\n",
       "      <th>医院</th>\n",
       "      <th>患者编号</th>\n",
       "      <th>病历号</th>\n",
       "      <th>患者姓名</th>\n",
       "      <th>患者性别</th>\n",
       "      <th>患者年龄</th>\n",
       "      <th>检查类型</th>\n",
       "      <th>检查项目</th>\n",
       "      <th>检查全部项目</th>\n",
       "      <th>登记时间</th>\n",
       "      <th>书写医生</th>\n",
       "      <th>书写时间</th>\n",
       "      <th>审核医生</th>\n",
       "      <th>审核时间</th>\n",
       "      <th>诊断结论</th>\n",
       "    </tr>\n",
       "  </thead>\n",
       "  <tbody>\n",
       "    <tr>\n",
       "      <th>0</th>\n",
       "      <td>瑞康医院空港院区</td>\n",
       "      <td>FS58444</td>\n",
       "      <td>FS58444</td>\n",
       "      <td>钟爱芳</td>\n",
       "      <td>女</td>\n",
       "      <td>38岁</td>\n",
       "      <td>MR</td>\n",
       "      <td>腰椎MRI平扫</td>\n",
       "      <td>颈椎MRI平扫/腰椎MRI平扫</td>\n",
       "      <td>2022-05-31 12:25:18</td>\n",
       "      <td>徐莉萍</td>\n",
       "      <td>2022-06-01 07:56:05</td>\n",
       "      <td>邓海璇</td>\n",
       "      <td>2022-06-01 10:45:48</td>\n",
       "      <td>1、颈椎退行性改变：C4/5、C5/6椎间盘突出；\\n2、腰背部筋膜炎。</td>\n",
       "    </tr>\n",
       "    <tr>\n",
       "      <th>1</th>\n",
       "      <td>瑞康医院空港院区</td>\n",
       "      <td>FS58444</td>\n",
       "      <td>FS58444</td>\n",
       "      <td>钟爱芳</td>\n",
       "      <td>女</td>\n",
       "      <td>38岁</td>\n",
       "      <td>MR</td>\n",
       "      <td>颈椎MRI平扫</td>\n",
       "      <td>颈椎MRI平扫/腰椎MRI平扫</td>\n",
       "      <td>2022-05-31 12:25:18</td>\n",
       "      <td>徐莉萍</td>\n",
       "      <td>2022-06-01 07:56:05</td>\n",
       "      <td>邓海璇</td>\n",
       "      <td>2022-06-01 10:45:48</td>\n",
       "      <td>1、颈椎退行性改变：C4/5、C5/6椎间盘突出；\\n2、腰背部筋膜炎。</td>\n",
       "    </tr>\n",
       "    <tr>\n",
       "      <th>2</th>\n",
       "      <td>瑞康医院空港院区</td>\n",
       "      <td>FS68488</td>\n",
       "      <td>FS68488</td>\n",
       "      <td>陈美倩</td>\n",
       "      <td>女</td>\n",
       "      <td>56岁</td>\n",
       "      <td>MR</td>\n",
       "      <td>颈椎MRI平扫</td>\n",
       "      <td>颈椎MRI平扫</td>\n",
       "      <td>2022-05-31 12:26:42</td>\n",
       "      <td>徐莉萍</td>\n",
       "      <td>2022-06-01 07:53:07</td>\n",
       "      <td>邓海璇</td>\n",
       "      <td>2022-06-01 10:44:17</td>\n",
       "      <td>颈椎退行性改变：C3/4-C6/7椎间盘突出，继发C3/4、C4/5椎管狭窄。\\n\\n</td>\n",
       "    </tr>\n",
       "    <tr>\n",
       "      <th>3</th>\n",
       "      <td>瑞康医院空港院区</td>\n",
       "      <td>FS53268</td>\n",
       "      <td>FS53268</td>\n",
       "      <td>唐广仕</td>\n",
       "      <td>男</td>\n",
       "      <td>76岁</td>\n",
       "      <td>CT</td>\n",
       "      <td>64排CT颅脑平扫</td>\n",
       "      <td>64排CT颅脑平扫</td>\n",
       "      <td>2022-06-01 02:32:38</td>\n",
       "      <td>莫增媚</td>\n",
       "      <td>2022-06-01 02:45:24</td>\n",
       "      <td>莫增媚</td>\n",
       "      <td>2022-06-01 02:45:24</td>\n",
       "      <td>1、右顶骨骨折；右顶叶脑挫伤；2、双侧额顶部硬膜下血肿。3、双侧基底节区多发腔隙性...</td>\n",
       "    </tr>\n",
       "    <tr>\n",
       "      <th>4</th>\n",
       "      <td>瑞康医院空港院区</td>\n",
       "      <td>FS68546</td>\n",
       "      <td>FS68546</td>\n",
       "      <td>李启文</td>\n",
       "      <td>男</td>\n",
       "      <td>24岁</td>\n",
       "      <td>DR</td>\n",
       "      <td>腹部立位平片</td>\n",
       "      <td>胸部正位/腹部立位平片</td>\n",
       "      <td>2022-06-01 03:03:45</td>\n",
       "      <td>莫增媚</td>\n",
       "      <td>2022-06-01 03:12:16</td>\n",
       "      <td>莫增媚</td>\n",
       "      <td>2022-06-01 03:12:16</td>\n",
       "      <td>1.心肺膈未见明显异常。2.腹部平片目前未见明显急腹症征象。</td>\n",
       "    </tr>\n",
       "    <tr>\n",
       "      <th>...</th>\n",
       "      <td>...</td>\n",
       "      <td>...</td>\n",
       "      <td>...</td>\n",
       "      <td>...</td>\n",
       "      <td>...</td>\n",
       "      <td>...</td>\n",
       "      <td>...</td>\n",
       "      <td>...</td>\n",
       "      <td>...</td>\n",
       "      <td>...</td>\n",
       "      <td>...</td>\n",
       "      <td>...</td>\n",
       "      <td>...</td>\n",
       "      <td>...</td>\n",
       "      <td>...</td>\n",
       "    </tr>\n",
       "    <tr>\n",
       "      <th>5330</th>\n",
       "      <td>瑞康医院空港院区</td>\n",
       "      <td>FS70755</td>\n",
       "      <td>FS70755</td>\n",
       "      <td>严彩芬</td>\n",
       "      <td>女</td>\n",
       "      <td>34岁</td>\n",
       "      <td>DR</td>\n",
       "      <td>骨盆正位</td>\n",
       "      <td>腰椎正侧位/骨盆正位</td>\n",
       "      <td>2022-07-01 23:17:38</td>\n",
       "      <td>李其睿</td>\n",
       "      <td>2022-07-01 23:28:34</td>\n",
       "      <td>李其睿</td>\n",
       "      <td>2022-07-01 23:28:34</td>\n",
       "      <td>1、L5/S1椎小关节骨质增生。2、腰椎生理曲度变直。3、 骨盆平片未见异常。</td>\n",
       "    </tr>\n",
       "    <tr>\n",
       "      <th>5331</th>\n",
       "      <td>瑞康医院空港院区</td>\n",
       "      <td>FS70755</td>\n",
       "      <td>FS70755</td>\n",
       "      <td>严彩芬</td>\n",
       "      <td>女</td>\n",
       "      <td>34岁</td>\n",
       "      <td>DR</td>\n",
       "      <td>腰椎正侧位</td>\n",
       "      <td>腰椎正侧位/骨盆正位</td>\n",
       "      <td>2022-07-01 23:17:38</td>\n",
       "      <td>李其睿</td>\n",
       "      <td>2022-07-01 23:28:34</td>\n",
       "      <td>李其睿</td>\n",
       "      <td>2022-07-01 23:28:34</td>\n",
       "      <td>1、L5/S1椎小关节骨质增生。2、腰椎生理曲度变直。3、 骨盆平片未见异常。</td>\n",
       "    </tr>\n",
       "    <tr>\n",
       "      <th>5332</th>\n",
       "      <td>瑞康医院空港院区</td>\n",
       "      <td>FS70756</td>\n",
       "      <td>FS70756</td>\n",
       "      <td>马加芬</td>\n",
       "      <td>男</td>\n",
       "      <td>49岁</td>\n",
       "      <td>CT</td>\n",
       "      <td>64排CT胸部平扫</td>\n",
       "      <td>64排CT颅脑平扫/64排CT胸部平扫</td>\n",
       "      <td>2022-07-01 23:24:22</td>\n",
       "      <td>李其睿</td>\n",
       "      <td>2022-07-01 23:53:04</td>\n",
       "      <td>李其睿</td>\n",
       "      <td>2022-07-01 23:53:04</td>\n",
       "      <td>1、左侧基底节区脑出血。2、左侧上颌窦炎。3、两肺散在多发小结节状钙化灶。4、主动脉、冠状动...</td>\n",
       "    </tr>\n",
       "    <tr>\n",
       "      <th>5333</th>\n",
       "      <td>瑞康医院空港院区</td>\n",
       "      <td>FS70756</td>\n",
       "      <td>FS70756</td>\n",
       "      <td>马加芬</td>\n",
       "      <td>男</td>\n",
       "      <td>49岁</td>\n",
       "      <td>CT</td>\n",
       "      <td>64排CT颅脑平扫</td>\n",
       "      <td>64排CT颅脑平扫/64排CT胸部平扫</td>\n",
       "      <td>2022-07-01 23:24:22</td>\n",
       "      <td>李其睿</td>\n",
       "      <td>2022-07-01 23:53:04</td>\n",
       "      <td>李其睿</td>\n",
       "      <td>2022-07-01 23:53:04</td>\n",
       "      <td>1、左侧基底节区脑出血。2、左侧上颌窦炎。3、两肺散在多发小结节状钙化灶。4、主动脉、冠状动...</td>\n",
       "    </tr>\n",
       "    <tr>\n",
       "      <th>5334</th>\n",
       "      <td>瑞康医院空港院区</td>\n",
       "      <td>FS70756</td>\n",
       "      <td>FS70756</td>\n",
       "      <td>马加芬</td>\n",
       "      <td>男</td>\n",
       "      <td>49岁</td>\n",
       "      <td>DR</td>\n",
       "      <td>右膝正位</td>\n",
       "      <td>右膝正位</td>\n",
       "      <td>2022-07-01 23:24:43</td>\n",
       "      <td>李其睿</td>\n",
       "      <td>2022-07-01 23:43:46</td>\n",
       "      <td>李其睿</td>\n",
       "      <td>2022-07-01 23:43:46</td>\n",
       "      <td>右膝关节正位片未见明显异常。</td>\n",
       "    </tr>\n",
       "  </tbody>\n",
       "</table>\n",
       "<p>5335 rows × 15 columns</p>\n",
       "</div>"
      ],
      "text/plain": [
       "            医院     患者编号      病历号 患者姓名 患者性别 患者年龄 检查类型       检查项目  \\\n",
       "0     瑞康医院空港院区  FS58444  FS58444  钟爱芳    女  38岁   MR    腰椎MRI平扫   \n",
       "1     瑞康医院空港院区  FS58444  FS58444  钟爱芳    女  38岁   MR    颈椎MRI平扫   \n",
       "2     瑞康医院空港院区  FS68488  FS68488  陈美倩    女  56岁   MR    颈椎MRI平扫   \n",
       "3     瑞康医院空港院区  FS53268  FS53268  唐广仕    男  76岁   CT  64排CT颅脑平扫   \n",
       "4     瑞康医院空港院区  FS68546  FS68546  李启文    男  24岁   DR     腹部立位平片   \n",
       "...        ...      ...      ...  ...  ...  ...  ...        ...   \n",
       "5330  瑞康医院空港院区  FS70755  FS70755  严彩芬    女  34岁   DR       骨盆正位   \n",
       "5331  瑞康医院空港院区  FS70755  FS70755  严彩芬    女  34岁   DR      腰椎正侧位   \n",
       "5332  瑞康医院空港院区  FS70756  FS70756  马加芬    男  49岁   CT  64排CT胸部平扫   \n",
       "5333  瑞康医院空港院区  FS70756  FS70756  马加芬    男  49岁   CT  64排CT颅脑平扫   \n",
       "5334  瑞康医院空港院区  FS70756  FS70756  马加芬    男  49岁   DR       右膝正位   \n",
       "\n",
       "                   检查全部项目                 登记时间 书写医生                 书写时间 审核医生  \\\n",
       "0         颈椎MRI平扫/腰椎MRI平扫  2022-05-31 12:25:18  徐莉萍  2022-06-01 07:56:05  邓海璇   \n",
       "1         颈椎MRI平扫/腰椎MRI平扫  2022-05-31 12:25:18  徐莉萍  2022-06-01 07:56:05  邓海璇   \n",
       "2                 颈椎MRI平扫  2022-05-31 12:26:42  徐莉萍  2022-06-01 07:53:07  邓海璇   \n",
       "3               64排CT颅脑平扫  2022-06-01 02:32:38  莫增媚  2022-06-01 02:45:24  莫增媚   \n",
       "4             胸部正位/腹部立位平片  2022-06-01 03:03:45  莫增媚  2022-06-01 03:12:16  莫增媚   \n",
       "...                   ...                  ...  ...                  ...  ...   \n",
       "5330           腰椎正侧位/骨盆正位  2022-07-01 23:17:38  李其睿  2022-07-01 23:28:34  李其睿   \n",
       "5331           腰椎正侧位/骨盆正位  2022-07-01 23:17:38  李其睿  2022-07-01 23:28:34  李其睿   \n",
       "5332  64排CT颅脑平扫/64排CT胸部平扫  2022-07-01 23:24:22  李其睿  2022-07-01 23:53:04  李其睿   \n",
       "5333  64排CT颅脑平扫/64排CT胸部平扫  2022-07-01 23:24:22  李其睿  2022-07-01 23:53:04  李其睿   \n",
       "5334                 右膝正位  2022-07-01 23:24:43  李其睿  2022-07-01 23:43:46  李其睿   \n",
       "\n",
       "                     审核时间                                               诊断结论  \n",
       "0     2022-06-01 10:45:48               1、颈椎退行性改变：C4/5、C5/6椎间盘突出；\\n2、腰背部筋膜炎。  \n",
       "1     2022-06-01 10:45:48               1、颈椎退行性改变：C4/5、C5/6椎间盘突出；\\n2、腰背部筋膜炎。  \n",
       "2     2022-06-01 10:44:17        颈椎退行性改变：C3/4-C6/7椎间盘突出，继发C3/4、C4/5椎管狭窄。\\n\\n  \n",
       "3     2022-06-01 02:45:24       1、右顶骨骨折；右顶叶脑挫伤；2、双侧额顶部硬膜下血肿。3、双侧基底节区多发腔隙性...  \n",
       "4     2022-06-01 03:12:16                     1.心肺膈未见明显异常。2.腹部平片目前未见明显急腹症征象。  \n",
       "...                   ...                                                ...  \n",
       "5330  2022-07-01 23:28:34            1、L5/S1椎小关节骨质增生。2、腰椎生理曲度变直。3、 骨盆平片未见异常。  \n",
       "5331  2022-07-01 23:28:34            1、L5/S1椎小关节骨质增生。2、腰椎生理曲度变直。3、 骨盆平片未见异常。  \n",
       "5332  2022-07-01 23:53:04  1、左侧基底节区脑出血。2、左侧上颌窦炎。3、两肺散在多发小结节状钙化灶。4、主动脉、冠状动...  \n",
       "5333  2022-07-01 23:53:04  1、左侧基底节区脑出血。2、左侧上颌窦炎。3、两肺散在多发小结节状钙化灶。4、主动脉、冠状动...  \n",
       "5334  2022-07-01 23:43:46                                     右膝关节正位片未见明显异常。  \n",
       "\n",
       "[5335 rows x 15 columns]"
      ]
     },
     "execution_count": 19,
     "metadata": {},
     "output_type": "execute_result"
    }
   ],
   "source": [
    "pd.read_excel(file_path.replace(\"\\\\\",\"/\"))"
   ]
  },
  {
   "cell_type": "code",
   "execution_count": 8,
   "id": "295003a8",
   "metadata": {},
   "outputs": [
    {
     "data": {
      "text/plain": [
       "'\\\\'"
      ]
     },
     "execution_count": 8,
     "metadata": {},
     "output_type": "execute_result"
    }
   ],
   "source": [
    "os.path.sep"
   ]
  },
  {
   "cell_type": "markdown",
   "id": "fa12c84d",
   "metadata": {
    "tags": []
   },
   "source": [
    "## 自定义Error问题"
   ]
  },
  {
   "cell_type": "code",
   "execution_count": 149,
   "id": "9a3638d2",
   "metadata": {},
   "outputs": [],
   "source": [
    "class ReadError(Exception):\n",
    "    def __init__(self, message):\n",
    "        self.message = message"
   ]
  },
  {
   "cell_type": "code",
   "execution_count": 141,
   "id": "d32f1ddc",
   "metadata": {},
   "outputs": [],
   "source": [
    "class NewError(Exception):\n",
    "    def __init__(self, message):\n",
    "        self.message = message"
   ]
  },
  {
   "cell_type": "code",
   "execution_count": 128,
   "id": "505c5952",
   "metadata": {},
   "outputs": [],
   "source": [
    "def test():\n",
    "    raise NewError('这是一个自定义异常')"
   ]
  },
  {
   "cell_type": "code",
   "execution_count": 129,
   "id": "c2d84dbb",
   "metadata": {},
   "outputs": [
    {
     "name": "stdout",
     "output_type": "stream",
     "text": [
      "有问题\n"
     ]
    }
   ],
   "source": [
    "try:\n",
    "    test()\n",
    "except NewError:\n",
    "    print(\"有问题\")"
   ]
  },
  {
   "cell_type": "markdown",
   "id": "fc91771a",
   "metadata": {},
   "source": [
    "## break和continue的区别"
   ]
  },
  {
   "cell_type": "code",
   "execution_count": 133,
   "id": "9e62cc34",
   "metadata": {
    "collapsed": true,
    "jupyter": {
     "outputs_hidden": true
    },
    "tags": []
   },
   "outputs": [
    {
     "name": "stdin",
     "output_type": "stream",
     "text": [
      "key here: c\n",
      "key here: c\n",
      "key here: c\n",
      "key here: c\n",
      "key here: c\n",
      "key here: c\n",
      "key here: c\n",
      "key here: c\n",
      "key here: c\n",
      "key here: c\n",
      "key here: c\n",
      "key here: c\n",
      "key here: c\n",
      "key here: b\n"
     ]
    }
   ],
   "source": [
    "while True:\n",
    "    key = input(\"key here:\")\n",
    "    if key == \"b\":\n",
    "        break\n",
    "    elif key == \"c\":\n",
    "        continue"
   ]
  },
  {
   "cell_type": "markdown",
   "id": "199e22a7",
   "metadata": {},
   "source": [
    "## pandas获取所有的表名"
   ]
  },
  {
   "cell_type": "code",
   "execution_count": 13,
   "id": "739469b0",
   "metadata": {},
   "outputs": [],
   "source": [
    "f = pd.ExcelFile(route)"
   ]
  },
  {
   "cell_type": "code",
   "execution_count": 17,
   "id": "b98f2b75",
   "metadata": {},
   "outputs": [
    {
     "data": {
      "text/plain": [
       "<pandas.io.excel._base.ExcelFile at 0x2c1f97200d0>"
      ]
     },
     "execution_count": 17,
     "metadata": {},
     "output_type": "execute_result"
    }
   ],
   "source": [
    "f"
   ]
  },
  {
   "cell_type": "markdown",
   "id": "7f1c1d2d",
   "metadata": {},
   "source": [
    "## 读取路径下的所有文件并进行统计"
   ]
  },
  {
   "cell_type": "code",
   "execution_count": 5,
   "id": "c6b91258",
   "metadata": {},
   "outputs": [],
   "source": [
    "os.chdir(r\"F:\\PythonSaves\\Counting\\导出数据存储处\")"
   ]
  },
  {
   "cell_type": "code",
   "execution_count": 6,
   "id": "f922532e",
   "metadata": {},
   "outputs": [
    {
     "data": {
      "text/plain": [
       "'F:\\\\PythonSaves\\\\Counting\\\\导出数据存储处'"
      ]
     },
     "execution_count": 6,
     "metadata": {},
     "output_type": "execute_result"
    }
   ],
   "source": [
    "os.getcwd()"
   ]
  },
  {
   "cell_type": "code",
   "execution_count": 9,
   "id": "7dec27d2",
   "metadata": {
    "tags": []
   },
   "outputs": [],
   "source": [
    "path = \"F:\\PythonSaves\\Counting\"\n",
    "dc_route = os.path.join(path,\"关键词字典.xlsx\")\n",
    "dc_raw = pd.read_excel(dc_route,sheet_name=\"MR\")\n",
    "dc = dc_raw.loc[:, [\"要统计的关键词\", \"统计到关键词时计算的次数\"]]\n",
    "dc = dc.dropna(how=\"all\")\n",
    "dc = dc.set_index(\"要统计的关键词\")\n",
    "dc = dc.to_dict(orient=\"series\")\n",
    "dc = dc[\"统计到关键词时计算的次数\"].to_dict()"
   ]
  },
  {
   "cell_type": "code",
   "execution_count": 10,
   "id": "a40bbe11",
   "metadata": {},
   "outputs": [
    {
     "data": {
      "text/plain": [
       "{'平扫': 1, 'MRA': 1, 'DWI': 1, 'MRM': 1, 'MRV': 1, 'MRCP': 1, '增强': 1}"
      ]
     },
     "execution_count": 10,
     "metadata": {},
     "output_type": "execute_result"
    }
   ],
   "source": [
    "dc"
   ]
  },
  {
   "cell_type": "markdown",
   "id": "559ad340",
   "metadata": {},
   "source": [
    "下面的适用于旧院区"
   ]
  },
  {
   "cell_type": "code",
   "execution_count": null,
   "id": "7dc11d6c",
   "metadata": {},
   "outputs": [
    {
     "name": "stdout",
     "output_type": "stream",
     "text": [
      "统计文件夹《F:\\PythonSaves\\Counting\\导出数据存储处\\2019年旧院区CT工作量》内的文件\n"
     ]
    }
   ],
   "source": [
    "count_all = 0\n",
    "key_word = \"CT\"\n",
    "try:\n",
    "    for folder in os.listdir():\n",
    "        if key_word in folder and (not \"2022\" in folder):\n",
    "            os.chdir(folder) # 先进入文件\n",
    "            print(f\"统计文件夹《{os.getcwd()}》内的文件\")\n",
    "            count = 0\n",
    "            for file in os.listdir(): # 一个个打开该文件夹里面的文件\n",
    "                if key_word in file and (not \"~$\" in file) :\n",
    "                    print(f\"统计文件{file}\")\n",
    "                    data_raw = pd.read_excel(file)\n",
    "                    # print(data_raw)\n",
    "                    count += 统计程序(data_raw, key_word, dc, [\",\"], mode=\"旧院区\") # 运行统计函数\n",
    "            print(f\"文件夹《{folder}》内的统计结果为{count}\")\n",
    "            count_all += count\n",
    "            os.chdir(os.path.abspath(\"..\")) # 在当前文件夹内统计完成后，返回上一级目录\n",
    "    os.chdir(os.path.abspath(\"..\")) #运行结束后，回到主目录\n",
    "    print(f\"统计结果为{count}\")\n",
    "except NotADirectoryError:\n",
    "    print(f\"路径{os.getcwd()}不是文件夹\")\n",
    "    pass\n",
    "finally:\n",
    "    os.chdir(r\"F:\\PythonSaves\\Counting\\导出数据存储处\")\n",
    "    print(f\"以上全部的统计结果为{count_all}\")"
   ]
  },
  {
   "cell_type": "code",
   "execution_count": 79,
   "id": "c30d48fa",
   "metadata": {},
   "outputs": [
    {
     "data": {
      "text/plain": [
       "False"
      ]
     },
     "execution_count": 79,
     "metadata": {},
     "output_type": "execute_result"
    }
   ],
   "source": [
    "not \"2022\" in \"2022年\""
   ]
  },
  {
   "cell_type": "markdown",
   "id": "d63b8df9",
   "metadata": {},
   "source": [
    "下面的适用于新院区"
   ]
  },
  {
   "cell_type": "code",
   "execution_count": 110,
   "id": "f8e02981",
   "metadata": {},
   "outputs": [
    {
     "name": "stdout",
     "output_type": "stream",
     "text": [
      "统计文件夹《F:\\PythonSaves\\医院统计程序\\导出数据存储处\\2021年7-12月新院区工作量统计》内的文件\n",
      "统计文件2021-11、12月工作量(1).xls\n",
      "set()未被统计到\n",
      "文件统计总和为2433\n",
      "统计文件检查项目量统计明细2021-07、8月(1).xls\n",
      "set()未被统计到\n",
      "文件统计总和为500\n",
      "统计文件检查项目量统计明细2021-09、10月(1).xlsx\n",
      "set()未被统计到\n",
      "文件统计总和为1423\n",
      "文件夹《2021年7-12月新院区工作量统计》内的统计结果为4356\n",
      "统计结果为4356\n",
      "以上全部的统计结果为4356\n"
     ]
    }
   ],
   "source": [
    "count_all = 0\n",
    "key_word = \"MR\"\n",
    "try:\n",
    "    for folder in os.listdir():\n",
    "        if \"2021年7-12月\" in folder:\n",
    "            os.chdir(folder) # 先进入文件夹\n",
    "            print(f\"统计文件夹《{os.getcwd()}》内的文件\")\n",
    "            count = 0\n",
    "            for file in os.listdir(): # 一个个打开该文件夹里面的文件\n",
    "                if (not \"~$\" in file) :\n",
    "                    print(f\"统计文件{file}\")\n",
    "                    data_raw = pd.read_excel(file)\n",
    "                    # print(data_raw)\n",
    "                    count += 统计程序(data_raw, key_word, dc, [\"/\",\"+\"], mode=\"新院区\") # 运行统计函数\n",
    "            print(f\"文件夹《{folder}》内的统计结果为{count}\")\n",
    "            count_all += count\n",
    "            os.chdir(os.path.abspath(\"..\")) # 在当前文件夹内统计完成后，返回上一级目录\n",
    "    os.chdir(os.path.abspath(\"..\")) #运行结束后，回到主目录\n",
    "    print(f\"统计结果为{count}\")\n",
    "except NotADirectoryError:\n",
    "    print(f\"路径{os.getcwd()}不是文件夹\")\n",
    "    pass\n",
    "finally:\n",
    "    os.chdir(r\"F:\\PythonSaves\\医院统计程序\\导出数据存储处\")\n",
    "    print(f\"以上全部的统计结果为{count_all}\")"
   ]
  },
  {
   "cell_type": "code",
   "execution_count": 3,
   "id": "6054f05b",
   "metadata": {},
   "outputs": [],
   "source": [
    "def split(lss, spl):\n",
    "    for i in spl:\n",
    "        lss = lss.replace(i,\"$\")\n",
    "    return lss.split(\"$\")"
   ]
  },
  {
   "cell_type": "code",
   "execution_count": 4,
   "id": "b603bfde",
   "metadata": {},
   "outputs": [],
   "source": [
    "def split(lss, spl):\n",
    "    for i in spl:\n",
    "        lss = lss.replace(i,\"$\")\n",
    "    return lss.split(\"$\")"
   ]
  },
  {
   "cell_type": "code",
   "execution_count": 77,
   "id": "57527940",
   "metadata": {},
   "outputs": [],
   "source": [
    "def 统计程序(data_raw, keywords, weight, spl, mode):\n",
    "    if mode == \"新院区\":\n",
    "        data = data_raw.loc[data_raw[\"检查类型\"] == keywords, \"检查全部项目\"]\n",
    "    elif mode == \"旧院区\":\n",
    "        data = data_raw.loc[data_raw[\"设备\"] == keywords, \"检查部位\"] \n",
    "    data.dropna(how=\"any\", inplace=True)\n",
    "    data.reset_index(drop=True,inplace=True)\n",
    "    \n",
    "    not_satistist = [] # 未被统计到的\n",
    "    cnt = 0\n",
    "    for i in data.loc[:]:\n",
    "        temp = False\n",
    "        # print(f\"——————检查项目{i}————————\")\n",
    "        ls = split(i,spl)\n",
    "        for ts in ls: # ts = \"头颅CT平扫+增强\"\n",
    "            for (key, values) in weight.items():\n",
    "                if key in ts:\n",
    "                    temp = True\n",
    "                    cnt += values\n",
    "                    # print(f\"统计到{key},其值为{values}\")\n",
    "                    break                \n",
    "        if not temp:\n",
    "            not_satistist.append(i)\n",
    "    print(f'{set(not_satistist)}未被统计到')\n",
    "    print(f\"文件统计总和为{cnt}\")\n",
    "    return cnt"
   ]
  },
  {
   "cell_type": "markdown",
   "id": "a385ec0e",
   "metadata": {},
   "source": [
    "## 将MultiIndex转化为Dict"
   ]
  },
  {
   "cell_type": "code",
   "execution_count": 73,
   "id": "fdcf659c",
   "metadata": {
    "collapsed": true,
    "jupyter": {
     "outputs_hidden": true
    }
   },
   "outputs": [
    {
     "data": {
      "text/html": [
       "<div>\n",
       "<style scoped>\n",
       "    .dataframe tbody tr th:only-of-type {\n",
       "        vertical-align: middle;\n",
       "    }\n",
       "\n",
       "    .dataframe tbody tr th {\n",
       "        vertical-align: top;\n",
       "    }\n",
       "\n",
       "    .dataframe thead th {\n",
       "        text-align: right;\n",
       "    }\n",
       "</style>\n",
       "<table border=\"1\" class=\"dataframe\">\n",
       "  <thead>\n",
       "    <tr style=\"text-align: right;\">\n",
       "      <th></th>\n",
       "      <th>部位</th>\n",
       "      <th>平扫</th>\n",
       "      <th>直接增强</th>\n",
       "      <th>平扫+增强</th>\n",
       "    </tr>\n",
       "  </thead>\n",
       "  <tbody>\n",
       "    <tr>\n",
       "      <th>0</th>\n",
       "      <td>头颅</td>\n",
       "      <td>1</td>\n",
       "      <td>1</td>\n",
       "      <td>2</td>\n",
       "    </tr>\n",
       "    <tr>\n",
       "      <th>1</th>\n",
       "      <td>颞骨</td>\n",
       "      <td>1</td>\n",
       "      <td>1</td>\n",
       "      <td>2</td>\n",
       "    </tr>\n",
       "    <tr>\n",
       "      <th>2</th>\n",
       "      <td>眼眶</td>\n",
       "      <td>1</td>\n",
       "      <td>1</td>\n",
       "      <td>2</td>\n",
       "    </tr>\n",
       "    <tr>\n",
       "      <th>3</th>\n",
       "      <td>眼部</td>\n",
       "      <td>1</td>\n",
       "      <td>1</td>\n",
       "      <td>2</td>\n",
       "    </tr>\n",
       "    <tr>\n",
       "      <th>4</th>\n",
       "      <td>鼻咽</td>\n",
       "      <td>1</td>\n",
       "      <td>1</td>\n",
       "      <td>2</td>\n",
       "    </tr>\n",
       "    <tr>\n",
       "      <th>5</th>\n",
       "      <td>鼻窦</td>\n",
       "      <td>1</td>\n",
       "      <td>1</td>\n",
       "      <td>2</td>\n",
       "    </tr>\n",
       "    <tr>\n",
       "      <th>6</th>\n",
       "      <td>上颌</td>\n",
       "      <td>1</td>\n",
       "      <td>1</td>\n",
       "      <td>2</td>\n",
       "    </tr>\n",
       "    <tr>\n",
       "      <th>7</th>\n",
       "      <td>下颌</td>\n",
       "      <td>1</td>\n",
       "      <td>1</td>\n",
       "      <td>2</td>\n",
       "    </tr>\n",
       "    <tr>\n",
       "      <th>8</th>\n",
       "      <td>颞颌</td>\n",
       "      <td>1</td>\n",
       "      <td>1</td>\n",
       "      <td>2</td>\n",
       "    </tr>\n",
       "    <tr>\n",
       "      <th>9</th>\n",
       "      <td>面部</td>\n",
       "      <td>1</td>\n",
       "      <td>1</td>\n",
       "      <td>2</td>\n",
       "    </tr>\n",
       "    <tr>\n",
       "      <th>10</th>\n",
       "      <td>上腰椎</td>\n",
       "      <td>1</td>\n",
       "      <td>1</td>\n",
       "      <td>2</td>\n",
       "    </tr>\n",
       "    <tr>\n",
       "      <th>11</th>\n",
       "      <td>下腰椎</td>\n",
       "      <td>1</td>\n",
       "      <td>1</td>\n",
       "      <td>2</td>\n",
       "    </tr>\n",
       "    <tr>\n",
       "      <th>12</th>\n",
       "      <td>全腰椎</td>\n",
       "      <td>2</td>\n",
       "      <td>2</td>\n",
       "      <td>4</td>\n",
       "    </tr>\n",
       "    <tr>\n",
       "      <th>13</th>\n",
       "      <td>上颈椎</td>\n",
       "      <td>1</td>\n",
       "      <td>1</td>\n",
       "      <td>2</td>\n",
       "    </tr>\n",
       "    <tr>\n",
       "      <th>14</th>\n",
       "      <td>下颈椎</td>\n",
       "      <td>1</td>\n",
       "      <td>1</td>\n",
       "      <td>2</td>\n",
       "    </tr>\n",
       "    <tr>\n",
       "      <th>15</th>\n",
       "      <td>全颈椎</td>\n",
       "      <td>2</td>\n",
       "      <td>2</td>\n",
       "      <td>4</td>\n",
       "    </tr>\n",
       "    <tr>\n",
       "      <th>16</th>\n",
       "      <td>胸椎（T? - T?）</td>\n",
       "      <td>1</td>\n",
       "      <td>1</td>\n",
       "      <td>2</td>\n",
       "    </tr>\n",
       "    <tr>\n",
       "      <th>17</th>\n",
       "      <td>胸椎三个椎体</td>\n",
       "      <td>1</td>\n",
       "      <td>1</td>\n",
       "      <td>2</td>\n",
       "    </tr>\n",
       "    <tr>\n",
       "      <th>18</th>\n",
       "      <td>全胸椎</td>\n",
       "      <td>4</td>\n",
       "      <td>4</td>\n",
       "      <td>8</td>\n",
       "    </tr>\n",
       "    <tr>\n",
       "      <th>19</th>\n",
       "      <td>骶尾椎</td>\n",
       "      <td>1</td>\n",
       "      <td>1</td>\n",
       "      <td>2</td>\n",
       "    </tr>\n",
       "    <tr>\n",
       "      <th>20</th>\n",
       "      <td>全脊柱</td>\n",
       "      <td>9</td>\n",
       "      <td>9</td>\n",
       "      <td>18</td>\n",
       "    </tr>\n",
       "    <tr>\n",
       "      <th>21</th>\n",
       "      <td>颈部</td>\n",
       "      <td>1</td>\n",
       "      <td>1</td>\n",
       "      <td>2</td>\n",
       "    </tr>\n",
       "    <tr>\n",
       "      <th>22</th>\n",
       "      <td>胸部</td>\n",
       "      <td>1</td>\n",
       "      <td>1</td>\n",
       "      <td>2</td>\n",
       "    </tr>\n",
       "    <tr>\n",
       "      <th>23</th>\n",
       "      <td>上腹</td>\n",
       "      <td>1</td>\n",
       "      <td>1</td>\n",
       "      <td>2</td>\n",
       "    </tr>\n",
       "    <tr>\n",
       "      <th>24</th>\n",
       "      <td>中腹</td>\n",
       "      <td>1</td>\n",
       "      <td>1</td>\n",
       "      <td>2</td>\n",
       "    </tr>\n",
       "    <tr>\n",
       "      <th>25</th>\n",
       "      <td>下腹</td>\n",
       "      <td>1</td>\n",
       "      <td>1</td>\n",
       "      <td>2</td>\n",
       "    </tr>\n",
       "    <tr>\n",
       "      <th>26</th>\n",
       "      <td>泌尿系</td>\n",
       "      <td>2</td>\n",
       "      <td>2</td>\n",
       "      <td>4</td>\n",
       "    </tr>\n",
       "    <tr>\n",
       "      <th>27</th>\n",
       "      <td>全腹</td>\n",
       "      <td>3</td>\n",
       "      <td>3</td>\n",
       "      <td>6</td>\n",
       "    </tr>\n",
       "    <tr>\n",
       "      <th>28</th>\n",
       "      <td>骨盆</td>\n",
       "      <td>1</td>\n",
       "      <td>1</td>\n",
       "      <td>2</td>\n",
       "    </tr>\n",
       "    <tr>\n",
       "      <th>29</th>\n",
       "      <td>盆腔</td>\n",
       "      <td>1</td>\n",
       "      <td>1</td>\n",
       "      <td>2</td>\n",
       "    </tr>\n",
       "    <tr>\n",
       "      <th>30</th>\n",
       "      <td>肾</td>\n",
       "      <td>1</td>\n",
       "      <td>1</td>\n",
       "      <td>2</td>\n",
       "    </tr>\n",
       "    <tr>\n",
       "      <th>31</th>\n",
       "      <td>肾上腺</td>\n",
       "      <td>1</td>\n",
       "      <td>1</td>\n",
       "      <td>2</td>\n",
       "    </tr>\n",
       "    <tr>\n",
       "      <th>32</th>\n",
       "      <td>胰腺</td>\n",
       "      <td>1</td>\n",
       "      <td>1</td>\n",
       "      <td>2</td>\n",
       "    </tr>\n",
       "    <tr>\n",
       "      <th>33</th>\n",
       "      <td>前列腺</td>\n",
       "      <td>1</td>\n",
       "      <td>1</td>\n",
       "      <td>2</td>\n",
       "    </tr>\n",
       "    <tr>\n",
       "      <th>34</th>\n",
       "      <td>膀胱</td>\n",
       "      <td>1</td>\n",
       "      <td>1</td>\n",
       "      <td>2</td>\n",
       "    </tr>\n",
       "    <tr>\n",
       "      <th>35</th>\n",
       "      <td>手</td>\n",
       "      <td>1</td>\n",
       "      <td>1</td>\n",
       "      <td>2</td>\n",
       "    </tr>\n",
       "    <tr>\n",
       "      <th>36</th>\n",
       "      <td>肩</td>\n",
       "      <td>1</td>\n",
       "      <td>1</td>\n",
       "      <td>2</td>\n",
       "    </tr>\n",
       "    <tr>\n",
       "      <th>37</th>\n",
       "      <td>肘</td>\n",
       "      <td>1</td>\n",
       "      <td>1</td>\n",
       "      <td>2</td>\n",
       "    </tr>\n",
       "    <tr>\n",
       "      <th>38</th>\n",
       "      <td>腕</td>\n",
       "      <td>1</td>\n",
       "      <td>1</td>\n",
       "      <td>2</td>\n",
       "    </tr>\n",
       "    <tr>\n",
       "      <th>39</th>\n",
       "      <td>肱骨</td>\n",
       "      <td>1</td>\n",
       "      <td>1</td>\n",
       "      <td>2</td>\n",
       "    </tr>\n",
       "    <tr>\n",
       "      <th>40</th>\n",
       "      <td>尺桡骨</td>\n",
       "      <td>1</td>\n",
       "      <td>1</td>\n",
       "      <td>2</td>\n",
       "    </tr>\n",
       "    <tr>\n",
       "      <th>41</th>\n",
       "      <td>髋</td>\n",
       "      <td>1</td>\n",
       "      <td>1</td>\n",
       "      <td>2</td>\n",
       "    </tr>\n",
       "    <tr>\n",
       "      <th>42</th>\n",
       "      <td>左膝</td>\n",
       "      <td>1</td>\n",
       "      <td>1</td>\n",
       "      <td>2</td>\n",
       "    </tr>\n",
       "    <tr>\n",
       "      <th>43</th>\n",
       "      <td>左踝</td>\n",
       "      <td>1</td>\n",
       "      <td>1</td>\n",
       "      <td>2</td>\n",
       "    </tr>\n",
       "    <tr>\n",
       "      <th>44</th>\n",
       "      <td>双膝</td>\n",
       "      <td>2</td>\n",
       "      <td>2</td>\n",
       "      <td>4</td>\n",
       "    </tr>\n",
       "    <tr>\n",
       "      <th>45</th>\n",
       "      <td>右膝</td>\n",
       "      <td>1</td>\n",
       "      <td>1</td>\n",
       "      <td>2</td>\n",
       "    </tr>\n",
       "    <tr>\n",
       "      <th>46</th>\n",
       "      <td>右踝</td>\n",
       "      <td>1</td>\n",
       "      <td>1</td>\n",
       "      <td>2</td>\n",
       "    </tr>\n",
       "    <tr>\n",
       "      <th>47</th>\n",
       "      <td>双踝</td>\n",
       "      <td>2</td>\n",
       "      <td>2</td>\n",
       "      <td>4</td>\n",
       "    </tr>\n",
       "    <tr>\n",
       "      <th>48</th>\n",
       "      <td>左跟骨</td>\n",
       "      <td>1</td>\n",
       "      <td>1</td>\n",
       "      <td>2</td>\n",
       "    </tr>\n",
       "    <tr>\n",
       "      <th>49</th>\n",
       "      <td>右跟骨</td>\n",
       "      <td>1</td>\n",
       "      <td>1</td>\n",
       "      <td>2</td>\n",
       "    </tr>\n",
       "    <tr>\n",
       "      <th>50</th>\n",
       "      <td>双跟骨</td>\n",
       "      <td>2</td>\n",
       "      <td>2</td>\n",
       "      <td>4</td>\n",
       "    </tr>\n",
       "    <tr>\n",
       "      <th>51</th>\n",
       "      <td>双侧胫腓骨</td>\n",
       "      <td>2</td>\n",
       "      <td>2</td>\n",
       "      <td>4</td>\n",
       "    </tr>\n",
       "    <tr>\n",
       "      <th>52</th>\n",
       "      <td>胫腓骨</td>\n",
       "      <td>1</td>\n",
       "      <td>1</td>\n",
       "      <td>2</td>\n",
       "    </tr>\n",
       "    <tr>\n",
       "      <th>53</th>\n",
       "      <td>左股骨</td>\n",
       "      <td>1</td>\n",
       "      <td>1</td>\n",
       "      <td>2</td>\n",
       "    </tr>\n",
       "    <tr>\n",
       "      <th>54</th>\n",
       "      <td>右股骨</td>\n",
       "      <td>1</td>\n",
       "      <td>1</td>\n",
       "      <td>2</td>\n",
       "    </tr>\n",
       "    <tr>\n",
       "      <th>55</th>\n",
       "      <td>双股骨</td>\n",
       "      <td>2</td>\n",
       "      <td>2</td>\n",
       "      <td>4</td>\n",
       "    </tr>\n",
       "  </tbody>\n",
       "</table>\n",
       "</div>"
      ],
      "text/plain": [
       "             部位  平扫  直接增强  平扫+增强\n",
       "0            头颅   1     1      2\n",
       "1            颞骨   1     1      2\n",
       "2            眼眶   1     1      2\n",
       "3            眼部   1     1      2\n",
       "4            鼻咽   1     1      2\n",
       "5            鼻窦   1     1      2\n",
       "6            上颌   1     1      2\n",
       "7            下颌   1     1      2\n",
       "8            颞颌   1     1      2\n",
       "9            面部   1     1      2\n",
       "10          上腰椎   1     1      2\n",
       "11          下腰椎   1     1      2\n",
       "12          全腰椎   2     2      4\n",
       "13          上颈椎   1     1      2\n",
       "14          下颈椎   1     1      2\n",
       "15          全颈椎   2     2      4\n",
       "16  胸椎（T? - T?）   1     1      2\n",
       "17       胸椎三个椎体   1     1      2\n",
       "18          全胸椎   4     4      8\n",
       "19          骶尾椎   1     1      2\n",
       "20          全脊柱   9     9     18\n",
       "21           颈部   1     1      2\n",
       "22           胸部   1     1      2\n",
       "23           上腹   1     1      2\n",
       "24           中腹   1     1      2\n",
       "25           下腹   1     1      2\n",
       "26          泌尿系   2     2      4\n",
       "27           全腹   3     3      6\n",
       "28           骨盆   1     1      2\n",
       "29           盆腔   1     1      2\n",
       "30            肾   1     1      2\n",
       "31          肾上腺   1     1      2\n",
       "32           胰腺   1     1      2\n",
       "33          前列腺   1     1      2\n",
       "34           膀胱   1     1      2\n",
       "35            手   1     1      2\n",
       "36            肩   1     1      2\n",
       "37            肘   1     1      2\n",
       "38            腕   1     1      2\n",
       "39           肱骨   1     1      2\n",
       "40          尺桡骨   1     1      2\n",
       "41            髋   1     1      2\n",
       "42           左膝   1     1      2\n",
       "43           左踝   1     1      2\n",
       "44           双膝   2     2      4\n",
       "45           右膝   1     1      2\n",
       "46           右踝   1     1      2\n",
       "47           双踝   2     2      4\n",
       "48          左跟骨   1     1      2\n",
       "49          右跟骨   1     1      2\n",
       "50          双跟骨   2     2      4\n",
       "51       双侧胫腓骨    2     2      4\n",
       "52          胫腓骨   1     1      2\n",
       "53          左股骨   1     1      2\n",
       "54          右股骨   1     1      2\n",
       "55          双股骨   2     2      4"
      ]
     },
     "execution_count": 73,
     "metadata": {},
     "output_type": "execute_result"
    }
   ],
   "source": [
    "pd.read_excel(os.path.join(path,\"CT统计部位规则（整理后）.xlsx\"))"
   ]
  }
 ],
 "metadata": {
  "kernelspec": {
   "display_name": "Python 3.9 (XPython)",
   "language": "python",
   "name": "xpython"
  },
  "language_info": {
   "file_extension": ".py",
   "mimetype": "text/x-python",
   "name": "python",
   "version": "3.9.5"
  }
 },
 "nbformat": 4,
 "nbformat_minor": 5
}
